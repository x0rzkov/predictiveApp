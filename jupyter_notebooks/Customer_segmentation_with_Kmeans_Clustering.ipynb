{
 "cells": [
  {
   "cell_type": "markdown",
   "metadata": {},
   "source": [
    "### Segmenting Cutomers with K-means Clustering"
   ]
  },
  {
   "cell_type": "markdown",
   "metadata": {},
   "source": [
    "#### Import Python modules which we will use in our clustering"
   ]
  },
  {
   "cell_type": "code",
   "execution_count": 1,
   "metadata": {
    "collapsed": false
   },
   "outputs": [],
   "source": [
    "import numpy as np\n",
    "import pandas as pd\n",
    "from sklearn.cluster import KMeans"
   ]
  },
  {
   "cell_type": "markdown",
   "metadata": {},
   "source": [
    "#### Import data "
   ]
  },
  {
   "cell_type": "markdown",
   "metadata": {},
   "source": [
    "Read the HealthyFoodStore dataset to a pandas dataframe"
   ]
  },
  {
   "cell_type": "code",
   "execution_count": 3,
   "metadata": {
    "collapsed": false
   },
   "outputs": [],
   "source": [
    "filename = 'HealthyFoodStore2017.xlsx'\n",
    "df_healthy_store = pd.read_excel(filename,'Data')   "
   ]
  },
  {
   "cell_type": "markdown",
   "metadata": {},
   "source": [
    "#### Prepare the data "
   ]
  },
  {
   "cell_type": "markdown",
   "metadata": {},
   "source": [
    "Lets sum the amount sales for each customer per item"
   ]
  },
  {
   "cell_type": "code",
   "execution_count": 4,
   "metadata": {
    "collapsed": false
   },
   "outputs": [],
   "source": [
    "df_grouped = df_healthy_store.groupby(['Customer_ID','Item'],as_index = False).sum()"
   ]
  },
  {
   "cell_type": "markdown",
   "metadata": {},
   "source": [
    "Lets look at the first five rows of the df_grouped dataframe. We see that Customer ID AA-1 has purchased several differant items (but mostly Aloe Vera)"
   ]
  },
  {
   "cell_type": "code",
   "execution_count": 7,
   "metadata": {
    "collapsed": false
   },
   "outputs": [
    {
     "data": {
      "text/html": [
       "<div>\n",
       "<table border=\"1\" class=\"dataframe\">\n",
       "  <thead>\n",
       "    <tr style=\"text-align: right;\">\n",
       "      <th></th>\n",
       "      <th>Customer_ID</th>\n",
       "      <th>Item</th>\n",
       "      <th>Sales</th>\n",
       "    </tr>\n",
       "  </thead>\n",
       "  <tbody>\n",
       "    <tr>\n",
       "      <th>0</th>\n",
       "      <td>AA-1</td>\n",
       "      <td>Aloe Vera</td>\n",
       "      <td>65</td>\n",
       "    </tr>\n",
       "    <tr>\n",
       "      <th>1</th>\n",
       "      <td>AA-1</td>\n",
       "      <td>Broccoli Powder</td>\n",
       "      <td>55</td>\n",
       "    </tr>\n",
       "    <tr>\n",
       "      <th>2</th>\n",
       "      <td>AA-1</td>\n",
       "      <td>Detox Green Tea</td>\n",
       "      <td>20</td>\n",
       "    </tr>\n",
       "    <tr>\n",
       "      <th>3</th>\n",
       "      <td>AA-1</td>\n",
       "      <td>Energy bar White Chocolate and Macadamia Nut</td>\n",
       "      <td>5</td>\n",
       "    </tr>\n",
       "    <tr>\n",
       "      <th>4</th>\n",
       "      <td>AA-1</td>\n",
       "      <td>Fusion Spice Red Tea</td>\n",
       "      <td>10</td>\n",
       "    </tr>\n",
       "  </tbody>\n",
       "</table>\n",
       "</div>"
      ],
      "text/plain": [
       "  Customer_ID                                          Item  Sales\n",
       "0        AA-1                                     Aloe Vera     65\n",
       "1        AA-1                               Broccoli Powder     55\n",
       "2        AA-1                               Detox Green Tea     20\n",
       "3        AA-1  Energy bar White Chocolate and Macadamia Nut      5\n",
       "4        AA-1                          Fusion Spice Red Tea     10"
      ]
     },
     "execution_count": 7,
     "metadata": {},
     "output_type": "execute_result"
    }
   ],
   "source": [
    "df_grouped.head()"
   ]
  },
  {
   "cell_type": "markdown",
   "metadata": {},
   "source": [
    "Prior to clustering we will transpose/pivot the dataset so that each row represents one unique customer. This gives us a sparse matrix and since our cluster model uses numerical values we will use the fillna method to fill NaN values with 0 if the customer has not purchased the item "
   ]
  },
  {
   "cell_type": "code",
   "execution_count": 5,
   "metadata": {
    "collapsed": false
   },
   "outputs": [],
   "source": [
    "df_pivoted = df_grouped.pivot_table(index='Customer_ID', columns='Item', values='Sales').fillna(0)"
   ]
  },
  {
   "cell_type": "markdown",
   "metadata": {},
   "source": [
    "Lets take a look at the sparse matrix/dataframe. We can see the customers spendings per item"
   ]
  },
  {
   "cell_type": "code",
   "execution_count": 152,
   "metadata": {
    "collapsed": false
   },
   "outputs": [
    {
     "data": {
      "text/html": [
       "<div>\n",
       "<table border=\"1\" class=\"dataframe\">\n",
       "  <thead>\n",
       "    <tr style=\"text-align: right;\">\n",
       "      <th>Item</th>\n",
       "      <th>Aloe Vera</th>\n",
       "      <th>Broccoli Powder</th>\n",
       "      <th>Detox Green Tea</th>\n",
       "      <th>Energy bar White Chocolate and Macadamia Nut</th>\n",
       "      <th>Fusion Spice Red Tea</th>\n",
       "      <th>Ginger Lemon Tea</th>\n",
       "      <th>Grounded Garlic &amp; Ginger</th>\n",
       "      <th>HealthSmart Foods Chocolite Protein, French Vanilla</th>\n",
       "      <th>Muscle Combat crunch (Chocolate chip)</th>\n",
       "      <th>Oh Yeah!, Nutritional Shake, Chocolate Milkshake</th>\n",
       "      <th>Power bar - Banana Strawberry</th>\n",
       "      <th>Sprirulina</th>\n",
       "      <th>Wheat Grass</th>\n",
       "    </tr>\n",
       "    <tr>\n",
       "      <th>Customer_ID</th>\n",
       "      <th></th>\n",
       "      <th></th>\n",
       "      <th></th>\n",
       "      <th></th>\n",
       "      <th></th>\n",
       "      <th></th>\n",
       "      <th></th>\n",
       "      <th></th>\n",
       "      <th></th>\n",
       "      <th></th>\n",
       "      <th></th>\n",
       "      <th></th>\n",
       "      <th></th>\n",
       "    </tr>\n",
       "  </thead>\n",
       "  <tbody>\n",
       "    <tr>\n",
       "      <th>AA-1</th>\n",
       "      <td>65</td>\n",
       "      <td>55</td>\n",
       "      <td>20</td>\n",
       "      <td>5</td>\n",
       "      <td>10</td>\n",
       "      <td>15</td>\n",
       "      <td>35</td>\n",
       "      <td>5</td>\n",
       "      <td>5</td>\n",
       "      <td>0</td>\n",
       "      <td>0</td>\n",
       "      <td>35</td>\n",
       "      <td>35</td>\n",
       "    </tr>\n",
       "    <tr>\n",
       "      <th>AA-10</th>\n",
       "      <td>40</td>\n",
       "      <td>50</td>\n",
       "      <td>10</td>\n",
       "      <td>5</td>\n",
       "      <td>20</td>\n",
       "      <td>15</td>\n",
       "      <td>45</td>\n",
       "      <td>0</td>\n",
       "      <td>5</td>\n",
       "      <td>0</td>\n",
       "      <td>0</td>\n",
       "      <td>30</td>\n",
       "      <td>60</td>\n",
       "    </tr>\n",
       "    <tr>\n",
       "      <th>AA-11</th>\n",
       "      <td>55</td>\n",
       "      <td>50</td>\n",
       "      <td>15</td>\n",
       "      <td>5</td>\n",
       "      <td>25</td>\n",
       "      <td>15</td>\n",
       "      <td>50</td>\n",
       "      <td>5</td>\n",
       "      <td>0</td>\n",
       "      <td>5</td>\n",
       "      <td>0</td>\n",
       "      <td>45</td>\n",
       "      <td>55</td>\n",
       "    </tr>\n",
       "    <tr>\n",
       "      <th>AA-12</th>\n",
       "      <td>55</td>\n",
       "      <td>85</td>\n",
       "      <td>15</td>\n",
       "      <td>5</td>\n",
       "      <td>15</td>\n",
       "      <td>10</td>\n",
       "      <td>35</td>\n",
       "      <td>5</td>\n",
       "      <td>0</td>\n",
       "      <td>0</td>\n",
       "      <td>0</td>\n",
       "      <td>60</td>\n",
       "      <td>30</td>\n",
       "    </tr>\n",
       "    <tr>\n",
       "      <th>AA-13</th>\n",
       "      <td>10</td>\n",
       "      <td>10</td>\n",
       "      <td>35</td>\n",
       "      <td>5</td>\n",
       "      <td>45</td>\n",
       "      <td>65</td>\n",
       "      <td>20</td>\n",
       "      <td>15</td>\n",
       "      <td>10</td>\n",
       "      <td>0</td>\n",
       "      <td>10</td>\n",
       "      <td>15</td>\n",
       "      <td>15</td>\n",
       "    </tr>\n",
       "  </tbody>\n",
       "</table>\n",
       "</div>"
      ],
      "text/plain": [
       "Item         Aloe Vera  Broccoli Powder  Detox Green Tea  \\\n",
       "Customer_ID                                                \n",
       "AA-1                65               55               20   \n",
       "AA-10               40               50               10   \n",
       "AA-11               55               50               15   \n",
       "AA-12               55               85               15   \n",
       "AA-13               10               10               35   \n",
       "\n",
       "Item         Energy bar White Chocolate and Macadamia Nut  \\\n",
       "Customer_ID                                                 \n",
       "AA-1                                                    5   \n",
       "AA-10                                                   5   \n",
       "AA-11                                                   5   \n",
       "AA-12                                                   5   \n",
       "AA-13                                                   5   \n",
       "\n",
       "Item         Fusion Spice Red Tea  Ginger Lemon Tea  Grounded Garlic & Ginger  \\\n",
       "Customer_ID                                                                     \n",
       "AA-1                           10                15                        35   \n",
       "AA-10                          20                15                        45   \n",
       "AA-11                          25                15                        50   \n",
       "AA-12                          15                10                        35   \n",
       "AA-13                          45                65                        20   \n",
       "\n",
       "Item         HealthSmart Foods Chocolite Protein, French Vanilla  \\\n",
       "Customer_ID                                                        \n",
       "AA-1                                                         5     \n",
       "AA-10                                                        0     \n",
       "AA-11                                                        5     \n",
       "AA-12                                                        5     \n",
       "AA-13                                                       15     \n",
       "\n",
       "Item         Muscle Combat crunch (Chocolate chip)  \\\n",
       "Customer_ID                                          \n",
       "AA-1                                             5   \n",
       "AA-10                                            5   \n",
       "AA-11                                            0   \n",
       "AA-12                                            0   \n",
       "AA-13                                           10   \n",
       "\n",
       "Item         Oh Yeah!, Nutritional Shake, Chocolate Milkshake  \\\n",
       "Customer_ID                                                     \n",
       "AA-1                                                        0   \n",
       "AA-10                                                       0   \n",
       "AA-11                                                       5   \n",
       "AA-12                                                       0   \n",
       "AA-13                                                       0   \n",
       "\n",
       "Item         Power bar - Banana Strawberry  Sprirulina  Wheat Grass  \n",
       "Customer_ID                                                          \n",
       "AA-1                                     0          35           35  \n",
       "AA-10                                    0          30           60  \n",
       "AA-11                                    0          45           55  \n",
       "AA-12                                    0          60           30  \n",
       "AA-13                                   10          15           15  "
      ]
     },
     "execution_count": 152,
     "metadata": {},
     "output_type": "execute_result"
    }
   ],
   "source": [
    "df_pivoted.head()"
   ]
  },
  {
   "cell_type": "markdown",
   "metadata": {},
   "source": [
    "#### Variable selection"
   ]
  },
  {
   "cell_type": "markdown",
   "metadata": {},
   "source": [
    "Lets select all columns except the Customer ID as our input variables in the cluster model  "
   ]
  },
  {
   "cell_type": "code",
   "execution_count": 6,
   "metadata": {
    "collapsed": false
   },
   "outputs": [],
   "source": [
    "Xcols = [col for col in df_pivoted.columns if 'CUSTOMER_ID' not in col.upper()]"
   ]
  },
  {
   "cell_type": "markdown",
   "metadata": {},
   "source": [
    "Here are our input variables"
   ]
  },
  {
   "cell_type": "code",
   "execution_count": 10,
   "metadata": {
    "collapsed": false
   },
   "outputs": [
    {
     "data": {
      "text/plain": [
       "[u'Aloe Vera',\n",
       " u'Broccoli Powder',\n",
       " u'Detox Green Tea',\n",
       " u'Energy bar White Chocolate and Macadamia Nut',\n",
       " u'Fusion Spice Red Tea',\n",
       " u'Ginger Lemon Tea',\n",
       " u'Grounded Garlic & Ginger',\n",
       " u'HealthSmart Foods Chocolite Protein, French Vanilla',\n",
       " u'Muscle Combat crunch (Chocolate chip)',\n",
       " u'Oh Yeah!, Nutritional Shake, Chocolate Milkshake',\n",
       " u'Power bar - Banana Strawberry',\n",
       " u'Sprirulina',\n",
       " u'Wheat Grass']"
      ]
     },
     "execution_count": 10,
     "metadata": {},
     "output_type": "execute_result"
    }
   ],
   "source": [
    "Xcols"
   ]
  },
  {
   "cell_type": "markdown",
   "metadata": {},
   "source": [
    "### Transforming variables"
   ]
  },
  {
   "cell_type": "markdown",
   "metadata": {},
   "source": [
    "#### Dummy variables"
   ]
  },
  {
   "cell_type": "markdown",
   "metadata": {},
   "source": [
    "If we had categorical variables in our dataset we would have to transform them into dummy/indicator variables. The pandas library has the get_dummies function which greatly simplifies this. Since all our variables are continuous variable there is no need to transform any features into dummy/indicator variables. "
   ]
  },
  {
   "cell_type": "markdown",
   "metadata": {},
   "source": [
    "#### Scaling "
   ]
  },
  {
   "cell_type": "markdown",
   "metadata": {},
   "source": [
    "Since we are using a distance measure to cluster our observations (the Euclidean distance) it is very important that variables are in the same scale. Otherwise the variables measured on a larger scale will be overly influenced compared to other variables in the model. "
   ]
  },
  {
   "cell_type": "markdown",
   "metadata": {},
   "source": [
    "#### Standardizing"
   ]
  },
  {
   "cell_type": "markdown",
   "metadata": {},
   "source": [
    "We will transform all continuous variables by standardizing (Z-score normalize) them. This is done by is subtracting their mean and divide by their standard deviation  $z =\\frac{x - \\mu}{\\sigma}$ \n",
    "<br>\n",
    "The variables (features) will then be standardized with the mean of 0 and a standard deviation of 1. To perform the standardizing we will use zscore function from the scipy.stats module "
   ]
  },
  {
   "cell_type": "code",
   "execution_count": 7,
   "metadata": {
    "collapsed": false
   },
   "outputs": [],
   "source": [
    "X = df_pivoted[Xcols]\n",
    "from scipy.stats import zscore\n",
    "for col in X:\n",
    "    col_zscore = 'z_' + col          #prefix the column name wit a z_ for the standardized values \n",
    "    X[col_zscore] = zscore(X[col])\n",
    "    del X[col]                       #Delete the column with original/non-standardized values"
   ]
  },
  {
   "cell_type": "markdown",
   "metadata": {},
   "source": [
    "Lets take a look at the datframe with standardized features"
   ]
  },
  {
   "cell_type": "code",
   "execution_count": 12,
   "metadata": {
    "collapsed": false
   },
   "outputs": [
    {
     "data": {
      "text/html": [
       "<div>\n",
       "<table border=\"1\" class=\"dataframe\">\n",
       "  <thead>\n",
       "    <tr style=\"text-align: right;\">\n",
       "      <th>Item</th>\n",
       "      <th>z_Aloe Vera</th>\n",
       "      <th>z_Broccoli Powder</th>\n",
       "      <th>z_Detox Green Tea</th>\n",
       "      <th>z_Energy bar White Chocolate and Macadamia Nut</th>\n",
       "      <th>z_Fusion Spice Red Tea</th>\n",
       "      <th>z_Ginger Lemon Tea</th>\n",
       "      <th>z_Grounded Garlic &amp; Ginger</th>\n",
       "      <th>z_HealthSmart Foods Chocolite Protein, French Vanilla</th>\n",
       "      <th>z_Muscle Combat crunch (Chocolate chip)</th>\n",
       "      <th>z_Oh Yeah!, Nutritional Shake, Chocolate Milkshake</th>\n",
       "      <th>z_Power bar - Banana Strawberry</th>\n",
       "      <th>z_Sprirulina</th>\n",
       "      <th>z_Wheat Grass</th>\n",
       "    </tr>\n",
       "    <tr>\n",
       "      <th>Customer_ID</th>\n",
       "      <th></th>\n",
       "      <th></th>\n",
       "      <th></th>\n",
       "      <th></th>\n",
       "      <th></th>\n",
       "      <th></th>\n",
       "      <th></th>\n",
       "      <th></th>\n",
       "      <th></th>\n",
       "      <th></th>\n",
       "      <th></th>\n",
       "      <th></th>\n",
       "      <th></th>\n",
       "    </tr>\n",
       "  </thead>\n",
       "  <tbody>\n",
       "    <tr>\n",
       "      <th>AA-1</th>\n",
       "      <td>2.312569</td>\n",
       "      <td>1.681356</td>\n",
       "      <td>0.259865</td>\n",
       "      <td>-0.943962</td>\n",
       "      <td>-0.343670</td>\n",
       "      <td>-0.087660</td>\n",
       "      <td>0.965364</td>\n",
       "      <td>-0.840973</td>\n",
       "      <td>-0.966408</td>\n",
       "      <td>-1.081828</td>\n",
       "      <td>-1.018187</td>\n",
       "      <td>0.940438</td>\n",
       "      <td>0.943414</td>\n",
       "    </tr>\n",
       "    <tr>\n",
       "      <th>AA-10</th>\n",
       "      <td>1.093288</td>\n",
       "      <td>1.455164</td>\n",
       "      <td>-0.307113</td>\n",
       "      <td>-0.943962</td>\n",
       "      <td>0.213633</td>\n",
       "      <td>-0.087660</td>\n",
       "      <td>1.501677</td>\n",
       "      <td>-1.069292</td>\n",
       "      <td>-0.966408</td>\n",
       "      <td>-1.081828</td>\n",
       "      <td>-1.018187</td>\n",
       "      <td>0.673015</td>\n",
       "      <td>2.241689</td>\n",
       "    </tr>\n",
       "    <tr>\n",
       "      <th>AA-11</th>\n",
       "      <td>1.824857</td>\n",
       "      <td>1.455164</td>\n",
       "      <td>-0.023624</td>\n",
       "      <td>-0.943962</td>\n",
       "      <td>0.492284</td>\n",
       "      <td>-0.087660</td>\n",
       "      <td>1.769834</td>\n",
       "      <td>-0.840973</td>\n",
       "      <td>-1.188571</td>\n",
       "      <td>-0.871082</td>\n",
       "      <td>-1.018187</td>\n",
       "      <td>1.475284</td>\n",
       "      <td>1.982034</td>\n",
       "    </tr>\n",
       "    <tr>\n",
       "      <th>AA-12</th>\n",
       "      <td>1.824857</td>\n",
       "      <td>3.038504</td>\n",
       "      <td>-0.023624</td>\n",
       "      <td>-0.943962</td>\n",
       "      <td>-0.065019</td>\n",
       "      <td>-0.364481</td>\n",
       "      <td>0.965364</td>\n",
       "      <td>-0.840973</td>\n",
       "      <td>-1.188571</td>\n",
       "      <td>-1.081828</td>\n",
       "      <td>-1.018187</td>\n",
       "      <td>2.277554</td>\n",
       "      <td>0.683758</td>\n",
       "    </tr>\n",
       "    <tr>\n",
       "      <th>AA-13</th>\n",
       "      <td>-0.369848</td>\n",
       "      <td>-0.354366</td>\n",
       "      <td>1.110333</td>\n",
       "      <td>-0.943962</td>\n",
       "      <td>1.606888</td>\n",
       "      <td>2.680552</td>\n",
       "      <td>0.160894</td>\n",
       "      <td>-0.384336</td>\n",
       "      <td>-0.744245</td>\n",
       "      <td>-1.081828</td>\n",
       "      <td>-0.616271</td>\n",
       "      <td>-0.129255</td>\n",
       "      <td>-0.095207</td>\n",
       "    </tr>\n",
       "  </tbody>\n",
       "</table>\n",
       "</div>"
      ],
      "text/plain": [
       "Item         z_Aloe Vera  z_Broccoli Powder  z_Detox Green Tea  \\\n",
       "Customer_ID                                                      \n",
       "AA-1            2.312569           1.681356           0.259865   \n",
       "AA-10           1.093288           1.455164          -0.307113   \n",
       "AA-11           1.824857           1.455164          -0.023624   \n",
       "AA-12           1.824857           3.038504          -0.023624   \n",
       "AA-13          -0.369848          -0.354366           1.110333   \n",
       "\n",
       "Item         z_Energy bar White Chocolate and Macadamia Nut  \\\n",
       "Customer_ID                                                   \n",
       "AA-1                                              -0.943962   \n",
       "AA-10                                             -0.943962   \n",
       "AA-11                                             -0.943962   \n",
       "AA-12                                             -0.943962   \n",
       "AA-13                                             -0.943962   \n",
       "\n",
       "Item         z_Fusion Spice Red Tea  z_Ginger Lemon Tea  \\\n",
       "Customer_ID                                               \n",
       "AA-1                      -0.343670           -0.087660   \n",
       "AA-10                      0.213633           -0.087660   \n",
       "AA-11                      0.492284           -0.087660   \n",
       "AA-12                     -0.065019           -0.364481   \n",
       "AA-13                      1.606888            2.680552   \n",
       "\n",
       "Item         z_Grounded Garlic & Ginger  \\\n",
       "Customer_ID                               \n",
       "AA-1                           0.965364   \n",
       "AA-10                          1.501677   \n",
       "AA-11                          1.769834   \n",
       "AA-12                          0.965364   \n",
       "AA-13                          0.160894   \n",
       "\n",
       "Item         z_HealthSmart Foods Chocolite Protein, French Vanilla  \\\n",
       "Customer_ID                                                          \n",
       "AA-1                                                 -0.840973       \n",
       "AA-10                                                -1.069292       \n",
       "AA-11                                                -0.840973       \n",
       "AA-12                                                -0.840973       \n",
       "AA-13                                                -0.384336       \n",
       "\n",
       "Item         z_Muscle Combat crunch (Chocolate chip)  \\\n",
       "Customer_ID                                            \n",
       "AA-1                                       -0.966408   \n",
       "AA-10                                      -0.966408   \n",
       "AA-11                                      -1.188571   \n",
       "AA-12                                      -1.188571   \n",
       "AA-13                                      -0.744245   \n",
       "\n",
       "Item         z_Oh Yeah!, Nutritional Shake, Chocolate Milkshake  \\\n",
       "Customer_ID                                                       \n",
       "AA-1                                                 -1.081828    \n",
       "AA-10                                                -1.081828    \n",
       "AA-11                                                -0.871082    \n",
       "AA-12                                                -1.081828    \n",
       "AA-13                                                -1.081828    \n",
       "\n",
       "Item         z_Power bar - Banana Strawberry  z_Sprirulina  z_Wheat Grass  \n",
       "Customer_ID                                                                \n",
       "AA-1                               -1.018187      0.940438       0.943414  \n",
       "AA-10                              -1.018187      0.673015       2.241689  \n",
       "AA-11                              -1.018187      1.475284       1.982034  \n",
       "AA-12                              -1.018187      2.277554       0.683758  \n",
       "AA-13                              -0.616271     -0.129255      -0.095207  "
      ]
     },
     "execution_count": 12,
     "metadata": {},
     "output_type": "execute_result"
    }
   ],
   "source": [
    "X.head()"
   ]
  },
  {
   "cell_type": "markdown",
   "metadata": {},
   "source": [
    "#### Choosing the optimal number of clusters in the model"
   ]
  },
  {
   "cell_type": "markdown",
   "metadata": {},
   "source": [
    "An inappropriate choice for the number of clusters (k) can result in poor model performance. We will use the Silhouette Coefficien to determine the optimal number of clusters. \n",
    "\n",
    "In our example we will test the value of k from 2 through 20 in a for loop. Finally we'll choose k in our cluster model by choosing the model with the highest silhouette_score.  The silhouette coefficient is a measure of the compactness and separation of the clusters and therefore is a good measure to selection of optimal number of clusters in the model."
   ]
  },
  {
   "cell_type": "code",
   "execution_count": 8,
   "metadata": {
    "collapsed": false
   },
   "outputs": [
    {
     "name": "stdout",
     "output_type": "stream",
     "text": [
      "Number of clusters: 2 has a silhouette coefficient of 0.573\n",
      "Number of clusters: 3 has a silhouette coefficient of 0.600\n",
      "Number of clusters: 4 has a silhouette coefficient of 0.502\n",
      "Number of clusters: 5 has a silhouette coefficient of 0.395\n",
      "Number of clusters: 6 has a silhouette coefficient of 0.329\n",
      "Number of clusters: 7 has a silhouette coefficient of 0.338\n",
      "Number of clusters: 8 has a silhouette coefficient of 0.343\n",
      "Number of clusters: 9 has a silhouette coefficient of 0.326\n",
      "Number of clusters: 10 has a silhouette coefficient of 0.336\n"
     ]
    }
   ],
   "source": [
    "from sklearn.metrics import silhouette_score as silhouette_score\n",
    "\n",
    "# convert to matrix/numpy array to use in KMeans clustering class\n",
    "data_for_clustering_matrix = X.as_matrix()\n",
    "number_of_clusters = []\n",
    "silhouette_coef = []\n",
    "\n",
    "# Fit a CLuster model with 2 to 10 clusters (in a for-loop) and identify which has the highest silhouette score\n",
    "k = range(2, 11)\n",
    "for i in k:\n",
    "    clustering_method = KMeans(n_clusters = i)\n",
    "    clustering_method.fit(data_for_clustering_matrix)\n",
    "    labels = clustering_method.predict(data_for_clustering_matrix)\n",
    "    silhouette_average = silhouette_score(data_for_clustering_matrix, labels)\n",
    "    silhouette_coef.append(silhouette_average)\n",
    "    print \"Number of clusters: %d has a silhouette coefficient of %.3f\" % (i, silhouette_average)\n",
    "    number_of_clusters.append(i)\n",
    "\n",
    "max_silhouette_score = max(silhouette_coef)\n",
    "#get the list index of the element with the highest value (highest element in the list\n",
    "index_of_max_score = silhouette_coef.index(max_silhouette_score)"
   ]
  },
  {
   "cell_type": "code",
   "execution_count": 9,
   "metadata": {
    "collapsed": false
   },
   "outputs": [
    {
     "name": "stdout",
     "output_type": "stream",
     "text": [
      "The number of clusters with the highest silhouette_coef is 3\n"
     ]
    }
   ],
   "source": [
    "print \"The number of clusters with the highest silhouette_coef is %d\" % (number_of_clusters[index_of_max_score]) "
   ]
  },
  {
   "cell_type": "markdown",
   "metadata": {},
   "source": [
    "So lets segment our customer with a cluster model with 3 clusters"
   ]
  },
  {
   "cell_type": "code",
   "execution_count": 12,
   "metadata": {
    "collapsed": false
   },
   "outputs": [
    {
     "data": {
      "text/plain": [
       "KMeans(copy_x=True, init='k-means++', max_iter=300, n_clusters=3, n_init=10,\n",
       "    n_jobs=1, precompute_distances='auto', random_state=None, tol=0.0001,\n",
       "    verbose=0)"
      ]
     },
     "execution_count": 12,
     "metadata": {},
     "output_type": "execute_result"
    }
   ],
   "source": [
    "# FIT KMEANS CLUSTER MODEL WITH NUMBER OF CLUSTERS WITH HIGHEST SILHOUETTE SCORE\n",
    "cluster_model = KMeans(n_clusters = number_of_clusters[index_of_max_score])\n",
    "cluster_model.fit(data_for_clustering_matrix)"
   ]
  },
  {
   "cell_type": "markdown",
   "metadata": {},
   "source": [
    "For model persistence we will use the cPickle module \n",
    "which allows us to serialize and de-serialize Python object\n",
    "structures to compact byte code, so that we can save our cluster model and load it when we want to classify new samples without needing to learn the model from the training data all over again.\n"
   ]
  },
  {
   "cell_type": "markdown",
   "metadata": {},
   "source": [
    "We also need to save the arrays containing  mean and standard deviations for all variables in the cluster model. This is to be abe to standardize the input data in real time "
   ]
  },
  {
   "cell_type": "code",
   "execution_count": 10,
   "metadata": {
    "collapsed": false
   },
   "outputs": [],
   "source": [
    "#transform a pandas series to np array\n",
    "mean_arr = np.array(df_pivoted.mean(), dtype=pd.Series)\n",
    "std_arr = np.array(df_pivoted.std(), dtype=pd.Series)\n",
    "\n",
    "#Save the pickled array to disc \n",
    "mean_arr.dump('savedmodels/mean_arr.pkl')\n",
    "std_arr.dump('savedmodels/std_arr.pkl')"
   ]
  },
  {
   "cell_type": "code",
   "execution_count": 13,
   "metadata": {
    "collapsed": false
   },
   "outputs": [],
   "source": [
    "#Save the model to disc\n",
    "import pickle\n",
    "# save the classifier\n",
    "with open('savedmodels/cluster_model.pkl', 'wb') as fid:\n",
    "    pickle.dump(cluster_model, fid) \n",
    "\n",
    "#OR\n",
    "#filename = 'savedmodels/cluster_model.sav'\n",
    "#pickle.dump(cluster_model, open(filename, 'wb'))"
   ]
  },
  {
   "cell_type": "markdown",
   "metadata": {},
   "source": [
    "Lets score the dataframe (cluster our customers) with our cluster model "
   ]
  },
  {
   "cell_type": "code",
   "execution_count": 26,
   "metadata": {
    "collapsed": false
   },
   "outputs": [],
   "source": [
    "cluster_labels = cluster_model.predict(data_for_clustering_matrix)\n",
    "df_pivoted['cluster'] = cluster_labels"
   ]
  },
  {
   "cell_type": "markdown",
   "metadata": {},
   "source": [
    "Lets see the three clusters average spendings on each item in our store "
   ]
  },
  {
   "cell_type": "code",
   "execution_count": 27,
   "metadata": {
    "collapsed": false
   },
   "outputs": [
    {
     "data": {
      "text/html": [
       "<div>\n",
       "<table border=\"1\" class=\"dataframe\">\n",
       "  <thead>\n",
       "    <tr style=\"text-align: right;\">\n",
       "      <th>Item</th>\n",
       "      <th>Aloe Vera</th>\n",
       "      <th>Broccoli Powder</th>\n",
       "      <th>Detox Green Tea</th>\n",
       "      <th>Energy bar White Chocolate and Macadamia Nut</th>\n",
       "      <th>Fusion Spice Red Tea</th>\n",
       "      <th>Ginger Lemon Tea</th>\n",
       "      <th>Grounded Garlic &amp; Ginger</th>\n",
       "      <th>HealthSmart Foods Chocolite Protein, French Vanilla</th>\n",
       "      <th>Muscle Combat crunch (Chocolate chip)</th>\n",
       "      <th>Oh Yeah!, Nutritional Shake, Chocolate Milkshake</th>\n",
       "      <th>Power bar - Banana Strawberry</th>\n",
       "      <th>Sprirulina</th>\n",
       "      <th>Wheat Grass</th>\n",
       "    </tr>\n",
       "    <tr>\n",
       "      <th>cluster</th>\n",
       "      <th></th>\n",
       "      <th></th>\n",
       "      <th></th>\n",
       "      <th></th>\n",
       "      <th></th>\n",
       "      <th></th>\n",
       "      <th></th>\n",
       "      <th></th>\n",
       "      <th></th>\n",
       "      <th></th>\n",
       "      <th></th>\n",
       "      <th></th>\n",
       "      <th></th>\n",
       "    </tr>\n",
       "  </thead>\n",
       "  <tbody>\n",
       "    <tr>\n",
       "      <th>0</th>\n",
       "      <td>2.333333</td>\n",
       "      <td>2.000000</td>\n",
       "      <td>2.500000</td>\n",
       "      <td>52.000000</td>\n",
       "      <td>1.833333</td>\n",
       "      <td>2.666667</td>\n",
       "      <td>3.000000</td>\n",
       "      <td>41.166667</td>\n",
       "      <td>47.000000</td>\n",
       "      <td>46.000000</td>\n",
       "      <td>47.166667</td>\n",
       "      <td>2.666667</td>\n",
       "      <td>2.333333</td>\n",
       "    </tr>\n",
       "    <tr>\n",
       "      <th>1</th>\n",
       "      <td>17.352941</td>\n",
       "      <td>17.352941</td>\n",
       "      <td>37.941176</td>\n",
       "      <td>5.882353</td>\n",
       "      <td>40.294118</td>\n",
       "      <td>41.176471</td>\n",
       "      <td>18.529412</td>\n",
       "      <td>7.941176</td>\n",
       "      <td>9.705882</td>\n",
       "      <td>7.647059</td>\n",
       "      <td>4.117647</td>\n",
       "      <td>20.294118</td>\n",
       "      <td>17.647059</td>\n",
       "    </tr>\n",
       "    <tr>\n",
       "      <th>2</th>\n",
       "      <td>53.076923</td>\n",
       "      <td>55.000000</td>\n",
       "      <td>15.769231</td>\n",
       "      <td>5.000000</td>\n",
       "      <td>17.692308</td>\n",
       "      <td>16.538462</td>\n",
       "      <td>47.307692</td>\n",
       "      <td>2.692308</td>\n",
       "      <td>2.307692</td>\n",
       "      <td>2.307692</td>\n",
       "      <td>2.692308</td>\n",
       "      <td>47.692308</td>\n",
       "      <td>49.230769</td>\n",
       "    </tr>\n",
       "  </tbody>\n",
       "</table>\n",
       "</div>"
      ],
      "text/plain": [
       "Item     Aloe Vera  Broccoli Powder  Detox Green Tea  \\\n",
       "cluster                                                \n",
       "0         2.333333         2.000000         2.500000   \n",
       "1        17.352941        17.352941        37.941176   \n",
       "2        53.076923        55.000000        15.769231   \n",
       "\n",
       "Item     Energy bar White Chocolate and Macadamia Nut  Fusion Spice Red Tea  \\\n",
       "cluster                                                                       \n",
       "0                                           52.000000              1.833333   \n",
       "1                                            5.882353             40.294118   \n",
       "2                                            5.000000             17.692308   \n",
       "\n",
       "Item     Ginger Lemon Tea  Grounded Garlic & Ginger  \\\n",
       "cluster                                               \n",
       "0                2.666667                  3.000000   \n",
       "1               41.176471                 18.529412   \n",
       "2               16.538462                 47.307692   \n",
       "\n",
       "Item     HealthSmart Foods Chocolite Protein, French Vanilla  \\\n",
       "cluster                                                        \n",
       "0                                                41.166667     \n",
       "1                                                 7.941176     \n",
       "2                                                 2.692308     \n",
       "\n",
       "Item     Muscle Combat crunch (Chocolate chip)  \\\n",
       "cluster                                          \n",
       "0                                    47.000000   \n",
       "1                                     9.705882   \n",
       "2                                     2.307692   \n",
       "\n",
       "Item     Oh Yeah!, Nutritional Shake, Chocolate Milkshake  \\\n",
       "cluster                                                     \n",
       "0                                               46.000000   \n",
       "1                                                7.647059   \n",
       "2                                                2.307692   \n",
       "\n",
       "Item     Power bar - Banana Strawberry  Sprirulina  Wheat Grass  \n",
       "cluster                                                          \n",
       "0                            47.166667    2.666667     2.333333  \n",
       "1                             4.117647   20.294118    17.647059  \n",
       "2                             2.692308   47.692308    49.230769  "
      ]
     },
     "execution_count": 27,
     "metadata": {},
     "output_type": "execute_result"
    }
   ],
   "source": [
    "df_pivoted.groupby(['cluster']).mean() "
   ]
  },
  {
   "cell_type": "markdown",
   "metadata": {},
   "source": [
    "Customers in cluster 0 Enjoy Energy Bars and Protein Shakes. Lets all them Energizers (in need of breaks)   \n",
    "Customers in cluster 1: They likes therir healthy herbal tea, lets call them Tea sippers <br>\n",
    "Customers in cluster 2 Enjoys  Greens, Grass and Algaes  (although they don't seem to mind some healthy afternoon tea), lets call them our Healthy Herbs"
   ]
  }
 ],
 "metadata": {
  "kernelspec": {
   "display_name": "Python 2",
   "language": "python",
   "name": "python2"
  },
  "language_info": {
   "codemirror_mode": {
    "name": "ipython",
    "version": 2
   },
   "file_extension": ".py",
   "mimetype": "text/x-python",
   "name": "python",
   "nbconvert_exporter": "python",
   "pygments_lexer": "ipython2",
   "version": "2.7.9"
  }
 },
 "nbformat": 4,
 "nbformat_minor": 0
}
