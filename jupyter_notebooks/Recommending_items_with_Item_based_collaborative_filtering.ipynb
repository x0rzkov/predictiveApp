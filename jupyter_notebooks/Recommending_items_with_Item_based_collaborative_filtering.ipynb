{
 "cells": [
  {
   "cell_type": "markdown",
   "metadata": {
    "collapsed": true
   },
   "source": [
    "### Recommending items with Item based collaborative filtering\n"
   ]
  },
  {
   "cell_type": "markdown",
   "metadata": {},
   "source": [
    "####   Import Python modules which we will use in our recommender system"
   ]
  },
  {
   "cell_type": "code",
   "execution_count": 1,
   "metadata": {
    "collapsed": true,
    "scrolled": true
   },
   "outputs": [],
   "source": [
    "import numpy as np\n",
    "import pandas as pd"
   ]
  },
  {
   "cell_type": "markdown",
   "metadata": {},
   "source": [
    "#### Import data"
   ]
  },
  {
   "cell_type": "markdown",
   "metadata": {},
   "source": [
    "Read the HealthyFoodStore dataset to a pandas dataframe"
   ]
  },
  {
   "cell_type": "code",
   "execution_count": 2,
   "metadata": {
    "collapsed": false,
    "scrolled": true
   },
   "outputs": [],
   "source": [
    "filename = 'HealthyFoodStore2017.xlsx'\n",
    "df = pd.read_excel(filename,'Data')"
   ]
  },
  {
   "cell_type": "markdown",
   "metadata": {},
   "source": [
    "Aggragate sales per item for each customer"
   ]
  },
  {
   "cell_type": "code",
   "execution_count": 3,
   "metadata": {
    "collapsed": false,
    "scrolled": true
   },
   "outputs": [],
   "source": [
    "df_grouped = df.groupby(['Customer_ID','Item'],as_index = False).sum()"
   ]
  },
  {
   "cell_type": "markdown",
   "metadata": {},
   "source": [
    "We will transpose/pivot the dataset so that each row represents one unique customer, this gives us a sparse matrix. If the customer has not purchased the item we will use the fillna method to fill NaN values with 0."
   ]
  },
  {
   "cell_type": "code",
   "execution_count": 4,
   "metadata": {
    "collapsed": false,
    "scrolled": true
   },
   "outputs": [],
   "source": [
    "df_pivoted = df_grouped.pivot_table(index='Customer_ID', columns='Item', values='Sales').fillna(0)"
   ]
  },
  {
   "cell_type": "markdown",
   "metadata": {},
   "source": [
    "Lets look at the first five rows of the pivoted dataframe. NaN indicates the customer has not purchased the item. We see that Customer ID AA-1 has purchased several different items in our store"
   ]
  },
  {
   "cell_type": "code",
   "execution_count": 6,
   "metadata": {
    "collapsed": false
   },
   "outputs": [
    {
     "data": {
      "text/html": [
       "<div>\n",
       "<table border=\"1\" class=\"dataframe\">\n",
       "  <thead>\n",
       "    <tr style=\"text-align: right;\">\n",
       "      <th>Item</th>\n",
       "      <th>Aloe Vera</th>\n",
       "      <th>Broccoli Powder</th>\n",
       "      <th>Detox Green Tea</th>\n",
       "      <th>Energy bar White Chocolate and Macadamia Nut</th>\n",
       "      <th>Fusion Spice Red Tea</th>\n",
       "      <th>Ginger Lemon Tea</th>\n",
       "      <th>Grounded Garlic &amp; Ginger</th>\n",
       "      <th>HealthSmart Foods Chocolite Protein, French Vanilla</th>\n",
       "      <th>Muscle Combat crunch (Chocolate chip)</th>\n",
       "      <th>Oh Yeah!, Nutritional Shake, Chocolate Milkshake</th>\n",
       "      <th>Power bar - Banana Strawberry</th>\n",
       "      <th>Sprirulina</th>\n",
       "      <th>Wheat Grass</th>\n",
       "    </tr>\n",
       "    <tr>\n",
       "      <th>Customer_ID</th>\n",
       "      <th></th>\n",
       "      <th></th>\n",
       "      <th></th>\n",
       "      <th></th>\n",
       "      <th></th>\n",
       "      <th></th>\n",
       "      <th></th>\n",
       "      <th></th>\n",
       "      <th></th>\n",
       "      <th></th>\n",
       "      <th></th>\n",
       "      <th></th>\n",
       "      <th></th>\n",
       "    </tr>\n",
       "  </thead>\n",
       "  <tbody>\n",
       "    <tr>\n",
       "      <th>AA-1</th>\n",
       "      <td>65.0</td>\n",
       "      <td>55.0</td>\n",
       "      <td>20.0</td>\n",
       "      <td>5.0</td>\n",
       "      <td>10.0</td>\n",
       "      <td>15.0</td>\n",
       "      <td>35.0</td>\n",
       "      <td>5.0</td>\n",
       "      <td>5.0</td>\n",
       "      <td>0.0</td>\n",
       "      <td>0.0</td>\n",
       "      <td>35.0</td>\n",
       "      <td>35.0</td>\n",
       "    </tr>\n",
       "    <tr>\n",
       "      <th>AA-10</th>\n",
       "      <td>40.0</td>\n",
       "      <td>50.0</td>\n",
       "      <td>10.0</td>\n",
       "      <td>5.0</td>\n",
       "      <td>20.0</td>\n",
       "      <td>15.0</td>\n",
       "      <td>45.0</td>\n",
       "      <td>0.0</td>\n",
       "      <td>5.0</td>\n",
       "      <td>0.0</td>\n",
       "      <td>0.0</td>\n",
       "      <td>30.0</td>\n",
       "      <td>60.0</td>\n",
       "    </tr>\n",
       "    <tr>\n",
       "      <th>AA-11</th>\n",
       "      <td>55.0</td>\n",
       "      <td>50.0</td>\n",
       "      <td>15.0</td>\n",
       "      <td>5.0</td>\n",
       "      <td>25.0</td>\n",
       "      <td>15.0</td>\n",
       "      <td>50.0</td>\n",
       "      <td>5.0</td>\n",
       "      <td>0.0</td>\n",
       "      <td>5.0</td>\n",
       "      <td>0.0</td>\n",
       "      <td>45.0</td>\n",
       "      <td>55.0</td>\n",
       "    </tr>\n",
       "    <tr>\n",
       "      <th>AA-12</th>\n",
       "      <td>55.0</td>\n",
       "      <td>85.0</td>\n",
       "      <td>15.0</td>\n",
       "      <td>5.0</td>\n",
       "      <td>15.0</td>\n",
       "      <td>10.0</td>\n",
       "      <td>35.0</td>\n",
       "      <td>5.0</td>\n",
       "      <td>0.0</td>\n",
       "      <td>0.0</td>\n",
       "      <td>0.0</td>\n",
       "      <td>60.0</td>\n",
       "      <td>30.0</td>\n",
       "    </tr>\n",
       "    <tr>\n",
       "      <th>AA-13</th>\n",
       "      <td>10.0</td>\n",
       "      <td>10.0</td>\n",
       "      <td>35.0</td>\n",
       "      <td>5.0</td>\n",
       "      <td>45.0</td>\n",
       "      <td>65.0</td>\n",
       "      <td>20.0</td>\n",
       "      <td>15.0</td>\n",
       "      <td>10.0</td>\n",
       "      <td>0.0</td>\n",
       "      <td>10.0</td>\n",
       "      <td>15.0</td>\n",
       "      <td>15.0</td>\n",
       "    </tr>\n",
       "  </tbody>\n",
       "</table>\n",
       "</div>"
      ],
      "text/plain": [
       "Item         Aloe Vera  Broccoli Powder  Detox Green Tea  \\\n",
       "Customer_ID                                                \n",
       "AA-1              65.0             55.0             20.0   \n",
       "AA-10             40.0             50.0             10.0   \n",
       "AA-11             55.0             50.0             15.0   \n",
       "AA-12             55.0             85.0             15.0   \n",
       "AA-13             10.0             10.0             35.0   \n",
       "\n",
       "Item         Energy bar White Chocolate and Macadamia Nut  \\\n",
       "Customer_ID                                                 \n",
       "AA-1                                                  5.0   \n",
       "AA-10                                                 5.0   \n",
       "AA-11                                                 5.0   \n",
       "AA-12                                                 5.0   \n",
       "AA-13                                                 5.0   \n",
       "\n",
       "Item         Fusion Spice Red Tea  Ginger Lemon Tea  Grounded Garlic & Ginger  \\\n",
       "Customer_ID                                                                     \n",
       "AA-1                         10.0              15.0                      35.0   \n",
       "AA-10                        20.0              15.0                      45.0   \n",
       "AA-11                        25.0              15.0                      50.0   \n",
       "AA-12                        15.0              10.0                      35.0   \n",
       "AA-13                        45.0              65.0                      20.0   \n",
       "\n",
       "Item         HealthSmart Foods Chocolite Protein, French Vanilla  \\\n",
       "Customer_ID                                                        \n",
       "AA-1                                                       5.0     \n",
       "AA-10                                                      0.0     \n",
       "AA-11                                                      5.0     \n",
       "AA-12                                                      5.0     \n",
       "AA-13                                                     15.0     \n",
       "\n",
       "Item         Muscle Combat crunch (Chocolate chip)  \\\n",
       "Customer_ID                                          \n",
       "AA-1                                           5.0   \n",
       "AA-10                                          5.0   \n",
       "AA-11                                          0.0   \n",
       "AA-12                                          0.0   \n",
       "AA-13                                         10.0   \n",
       "\n",
       "Item         Oh Yeah!, Nutritional Shake, Chocolate Milkshake  \\\n",
       "Customer_ID                                                     \n",
       "AA-1                                                      0.0   \n",
       "AA-10                                                     0.0   \n",
       "AA-11                                                     5.0   \n",
       "AA-12                                                     0.0   \n",
       "AA-13                                                     0.0   \n",
       "\n",
       "Item         Power bar - Banana Strawberry  Sprirulina  Wheat Grass  \n",
       "Customer_ID                                                          \n",
       "AA-1                                   0.0        35.0         35.0  \n",
       "AA-10                                  0.0        30.0         60.0  \n",
       "AA-11                                  0.0        45.0         55.0  \n",
       "AA-12                                  0.0        60.0         30.0  \n",
       "AA-13                                 10.0        15.0         15.0  "
      ]
     },
     "execution_count": 6,
     "metadata": {},
     "output_type": "execute_result"
    }
   ],
   "source": [
    "df_pivoted.head(5)"
   ]
  },
  {
   "cell_type": "markdown",
   "metadata": {},
   "source": [
    "Our recommender system is based on the method of Item based collaboritive filtering. In this method we find the correlation score between any pair of items (columns in the df). With the Pandas corr() method we compute a correlation score for every column pair (pair of items) in the column matrix. To avoid spurious results we only score item pairs where at least 10 customers has purchased both items. Otherwise we set the value to NaN \n"
   ]
  },
  {
   "cell_type": "code",
   "execution_count": 5,
   "metadata": {
    "collapsed": false,
    "scrolled": true
   },
   "outputs": [],
   "source": [
    "df_corr_matrix = df_pivoted.corr(method='pearson', min_periods=10)"
   ]
  },
  {
   "cell_type": "markdown",
   "metadata": {},
   "source": [
    "Lets take a look at the correlation matrix <br>...as we see below the linear relationship between Aloe Vera and Broccoli Powder is very strong"
   ]
  },
  {
   "cell_type": "code",
   "execution_count": 8,
   "metadata": {
    "collapsed": false,
    "scrolled": false
   },
   "outputs": [
    {
     "data": {
      "text/html": [
       "<div>\n",
       "<table border=\"1\" class=\"dataframe\">\n",
       "  <thead>\n",
       "    <tr style=\"text-align: right;\">\n",
       "      <th>Item</th>\n",
       "      <th>Aloe Vera</th>\n",
       "      <th>Broccoli Powder</th>\n",
       "      <th>Detox Green Tea</th>\n",
       "      <th>Energy bar White Chocolate and Macadamia Nut</th>\n",
       "      <th>Fusion Spice Red Tea</th>\n",
       "      <th>Ginger Lemon Tea</th>\n",
       "      <th>Grounded Garlic &amp; Ginger</th>\n",
       "      <th>HealthSmart Foods Chocolite Protein, French Vanilla</th>\n",
       "      <th>Muscle Combat crunch (Chocolate chip)</th>\n",
       "      <th>Oh Yeah!, Nutritional Shake, Chocolate Milkshake</th>\n",
       "      <th>Power bar - Banana Strawberry</th>\n",
       "      <th>Sprirulina</th>\n",
       "      <th>Wheat Grass</th>\n",
       "    </tr>\n",
       "    <tr>\n",
       "      <th>Item</th>\n",
       "      <th></th>\n",
       "      <th></th>\n",
       "      <th></th>\n",
       "      <th></th>\n",
       "      <th></th>\n",
       "      <th></th>\n",
       "      <th></th>\n",
       "      <th></th>\n",
       "      <th></th>\n",
       "      <th></th>\n",
       "      <th></th>\n",
       "      <th></th>\n",
       "      <th></th>\n",
       "    </tr>\n",
       "  </thead>\n",
       "  <tbody>\n",
       "    <tr>\n",
       "      <th>Aloe Vera</th>\n",
       "      <td>1.000000</td>\n",
       "      <td>0.900395</td>\n",
       "      <td>0.263176</td>\n",
       "      <td>-0.694006</td>\n",
       "      <td>0.331562</td>\n",
       "      <td>0.289351</td>\n",
       "      <td>0.899789</td>\n",
       "      <td>-0.644166</td>\n",
       "      <td>-0.747490</td>\n",
       "      <td>-0.673344</td>\n",
       "      <td>-0.674688</td>\n",
       "      <td>0.901041</td>\n",
       "      <td>0.881851</td>\n",
       "    </tr>\n",
       "    <tr>\n",
       "      <th>Broccoli Powder</th>\n",
       "      <td>0.900395</td>\n",
       "      <td>1.000000</td>\n",
       "      <td>0.262013</td>\n",
       "      <td>-0.670141</td>\n",
       "      <td>0.308910</td>\n",
       "      <td>0.237135</td>\n",
       "      <td>0.792959</td>\n",
       "      <td>-0.621646</td>\n",
       "      <td>-0.721022</td>\n",
       "      <td>-0.650309</td>\n",
       "      <td>-0.641117</td>\n",
       "      <td>0.899838</td>\n",
       "      <td>0.881498</td>\n",
       "    </tr>\n",
       "    <tr>\n",
       "      <th>Detox Green Tea</th>\n",
       "      <td>0.263176</td>\n",
       "      <td>0.262013</td>\n",
       "      <td>1.000000</td>\n",
       "      <td>-0.683327</td>\n",
       "      <td>0.708099</td>\n",
       "      <td>0.804922</td>\n",
       "      <td>0.299010</td>\n",
       "      <td>-0.556013</td>\n",
       "      <td>-0.608551</td>\n",
       "      <td>-0.577195</td>\n",
       "      <td>-0.647869</td>\n",
       "      <td>0.360842</td>\n",
       "      <td>0.294642</td>\n",
       "    </tr>\n",
       "  </tbody>\n",
       "</table>\n",
       "</div>"
      ],
      "text/plain": [
       "Item             Aloe Vera  Broccoli Powder  Detox Green Tea  \\\n",
       "Item                                                           \n",
       "Aloe Vera         1.000000         0.900395         0.263176   \n",
       "Broccoli Powder   0.900395         1.000000         0.262013   \n",
       "Detox Green Tea   0.263176         0.262013         1.000000   \n",
       "\n",
       "Item             Energy bar White Chocolate and Macadamia Nut  \\\n",
       "Item                                                            \n",
       "Aloe Vera                                           -0.694006   \n",
       "Broccoli Powder                                     -0.670141   \n",
       "Detox Green Tea                                     -0.683327   \n",
       "\n",
       "Item             Fusion Spice Red Tea  Ginger Lemon Tea  \\\n",
       "Item                                                      \n",
       "Aloe Vera                    0.331562          0.289351   \n",
       "Broccoli Powder              0.308910          0.237135   \n",
       "Detox Green Tea              0.708099          0.804922   \n",
       "\n",
       "Item             Grounded Garlic & Ginger  \\\n",
       "Item                                        \n",
       "Aloe Vera                        0.899789   \n",
       "Broccoli Powder                  0.792959   \n",
       "Detox Green Tea                  0.299010   \n",
       "\n",
       "Item             HealthSmart Foods Chocolite Protein, French Vanilla  \\\n",
       "Item                                                                   \n",
       "Aloe Vera                                                -0.644166     \n",
       "Broccoli Powder                                          -0.621646     \n",
       "Detox Green Tea                                          -0.556013     \n",
       "\n",
       "Item             Muscle Combat crunch (Chocolate chip)  \\\n",
       "Item                                                     \n",
       "Aloe Vera                                    -0.747490   \n",
       "Broccoli Powder                              -0.721022   \n",
       "Detox Green Tea                              -0.608551   \n",
       "\n",
       "Item             Oh Yeah!, Nutritional Shake, Chocolate Milkshake  \\\n",
       "Item                                                                \n",
       "Aloe Vera                                               -0.673344   \n",
       "Broccoli Powder                                         -0.650309   \n",
       "Detox Green Tea                                         -0.577195   \n",
       "\n",
       "Item             Power bar - Banana Strawberry  Sprirulina  Wheat Grass  \n",
       "Item                                                                     \n",
       "Aloe Vera                            -0.674688    0.901041     0.881851  \n",
       "Broccoli Powder                      -0.641117    0.899838     0.881498  \n",
       "Detox Green Tea                      -0.647869    0.360842     0.294642  "
      ]
     },
     "execution_count": 8,
     "metadata": {},
     "output_type": "execute_result"
    }
   ],
   "source": [
    "df_corr_matrix.head(3)"
   ]
  },
  {
   "cell_type": "markdown",
   "metadata": {},
   "source": [
    "This matrix with the correlation score between all items in our store will be used to recommend products to our customer. We therefore need to save this dataframe. We'll use pandas to_pickle method to save the dataframe as a serialized object"
   ]
  },
  {
   "cell_type": "code",
   "execution_count": 6,
   "metadata": {
    "collapsed": false,
    "scrolled": true
   },
   "outputs": [],
   "source": [
    "df_corr_matrix.to_pickle('textfiles/savedmodels/corr_matrix4.pkl')"
   ]
  },
  {
   "cell_type": "markdown",
   "metadata": {},
   "source": [
    "Lets test our reccomender system by creating a dict holding spendings on items from our store. Our fictive customer (Tony Romo...)  has purchased 33€ of Sprirulina and 5€ of Ginger Lemon Tea."
   ]
  },
  {
   "cell_type": "code",
   "execution_count": 9,
   "metadata": {
    "collapsed": false
   },
   "outputs": [],
   "source": [
    "tony_romo_dict = {'Sprirulina': 33, 'Ginger Lemon Tea': 5}\n",
    "\n",
    "#Create a pandas series from dict\n",
    "tony_romo_spendings = pd.Series(tony_romo_dict)"
   ]
  },
  {
   "cell_type": "markdown",
   "metadata": {},
   "source": [
    "If you follow the print statements in the for loop below, you should be able to follow along how the top 3 items are recommended to our customer. Tony loves Spirulina (a blue-green algae) and seems a little bit interested in Lemon Tea.... Can we use this information to recommend anything to Tony? <br>\n",
    "1. Get correlation scores for all item previously purchased by the customer.  <br>\n",
    "2. Weight the correlation score by multiplying spendings for items previously purchased in our store.  <br>\n",
    "3. Summarize the weighted scores <br>\n",
    "4. Since (in this case) we don't want to recommend Tony items which he's previously previously purchased we will remove previously purchased items from his recommendations <br>\n",
    "5. The items with the highest scores are recommended to Tony <br>"
   ]
  },
  {
   "cell_type": "code",
   "execution_count": 11,
   "metadata": {
    "collapsed": false,
    "scrolled": false
   },
   "outputs": [
    {
     "name": "stdout",
     "output_type": "stream",
     "text": [
      "1. Getting all correlation score for Ginger Lemon Tea...\n",
      "2. Multiply correlation score for each item with spendings for Ginger Lemon Tea which are: 5€\n",
      "Item\n",
      "Aloe Vera                                              1.446754\n",
      "Broccoli Powder                                        1.185676\n",
      "Detox Green Tea                                        4.024610\n",
      "Energy bar White Chocolate and Macadamia Nut          -3.540275\n",
      "Fusion Spice Red Tea                                   4.169016\n",
      "Ginger Lemon Tea                                       5.000000\n",
      "Grounded Garlic & Ginger                               1.660310\n",
      "HealthSmart Foods Chocolite Protein, French Vanilla   -2.912536\n",
      "Muscle Combat crunch (Chocolate chip)                 -3.175674\n",
      "Oh Yeah!, Nutritional Shake, Chocolate Milkshake      -3.230677\n",
      "Power bar - Banana Strawberry                         -3.199928\n",
      "Sprirulina                                             1.763212\n",
      "Wheat Grass                                            1.515628\n",
      "Name: Ginger Lemon Tea, dtype: float64\n",
      "1. Getting all correlation score for Sprirulina...\n",
      "2. Multiply correlation score for each item with spendings for Sprirulina which are: 33€\n",
      "Item\n",
      "Aloe Vera                                              29.734356\n",
      "Broccoli Powder                                        29.694656\n",
      "Detox Green Tea                                        11.907785\n",
      "Energy bar White Chocolate and Macadamia Nut          -23.902493\n",
      "Fusion Spice Red Tea                                   14.108322\n",
      "Ginger Lemon Tea                                       11.637202\n",
      "Grounded Garlic & Ginger                               28.807853\n",
      "HealthSmart Foods Chocolite Protein, French Vanilla   -22.829403\n",
      "Muscle Combat crunch (Chocolate chip)                 -25.002278\n",
      "Oh Yeah!, Nutritional Shake, Chocolate Milkshake      -23.956584\n",
      "Power bar - Banana Strawberry                         -22.668587\n",
      "Sprirulina                                             33.000000\n",
      "Wheat Grass                                            28.809852\n",
      "Name: Sprirulina, dtype: float64\n",
      "3. Summerize all_corr_scores and sort descending...\n",
      "Item\n",
      "Sprirulina                                             34.763212\n",
      "Aloe Vera                                              31.181110\n",
      "Broccoli Powder                                        30.880333\n",
      "Grounded Garlic & Ginger                               30.468163\n",
      "Wheat Grass                                            30.325480\n",
      "Fusion Spice Red Tea                                   18.277338\n",
      "Ginger Lemon Tea                                       16.637202\n",
      "Detox Green Tea                                        15.932396\n",
      "HealthSmart Foods Chocolite Protein, French Vanilla   -25.741939\n",
      "Power bar - Banana Strawberry                         -25.868515\n",
      "dtype: float64\n",
      "4. Remove products that the customer previously has purchased...\n",
      "5. Recommend top 3 products to Tony.... \n",
      "Item\n",
      "Aloe Vera                   31.181110\n",
      "Broccoli Powder             30.880333\n",
      "Grounded Garlic & Ginger    30.468163\n",
      "dtype: float64\n"
     ]
    }
   ],
   "source": [
    "all_corr_scores = pd.Series()\n",
    "for i in range(0, len(tony_romo_spendings.index)):\n",
    " \n",
    "    #Get correlation scores for all items purchased by Tony \n",
    "    print \"1. Getting all correlation score for \" + tony_romo_spendings.index[i] + \"...\"\n",
    "    correlation = df_corr_matrix[tony_romo_spendings.index[i]]\n",
    "   \n",
    "    print \"2. Multiply correlation score for each item with spendings for \" + tony_romo_spendings.index[i] + \" which are: \" + str(tony_romo_spendings.values[i]) + '€'\n",
    "    correlation = correlation.map(lambda x: x * tony_romo_spendings.values[i])  #\n",
    "    print correlation\n",
    "    \n",
    "    # Add all corr scores * spend values to the all_sim_scores series\n",
    "    all_corr_scores = all_corr_scores.append(correlation)\n",
    "    \n",
    "print \"3. Summerize all_corr_scores and sort descending...\"\n",
    "sum_all_corr_scores = all_corr_scores.groupby(all_corr_scores.index).sum()\n",
    "sum_all_corr_scores.sort_values(inplace = True, ascending = False)\n",
    "print sum_all_corr_scores.head(10)\n",
    "\n",
    "print \"4. Remove products that the customer previously has purchased...\"\n",
    "\n",
    "#my_spendings_filtered = erik_spendings.drop(tony_romo_spendings[tony_romo_spendings.values < 100].index)  \n",
    "#Drop values less than 100\n",
    "filtered_scores = sum_all_corr_scores.drop(tony_romo_spendings.index)\n",
    "\n",
    "print \"5. Recommend top 3 products to Tony.... \"  \n",
    "print filtered_scores.head(3)\n",
    " "
   ]
  },
  {
   "cell_type": "markdown",
   "metadata": {
    "collapsed": false,
    "scrolled": true
   },
   "source": [
    "The three recomended items to Tony Romo is.... <br> \n",
    "Aloe Vera, Broccoli Powder, Grounded Garlic & Ginger"
   ]
  }
 ],
 "metadata": {
  "kernelspec": {
   "display_name": "Python 2",
   "language": "python",
   "name": "python2"
  },
  "language_info": {
   "codemirror_mode": {
    "name": "ipython",
    "version": 2
   },
   "file_extension": ".py",
   "mimetype": "text/x-python",
   "name": "python",
   "nbconvert_exporter": "python",
   "pygments_lexer": "ipython2",
   "version": "2.7.9"
  }
 },
 "nbformat": 4,
 "nbformat_minor": 0
}
